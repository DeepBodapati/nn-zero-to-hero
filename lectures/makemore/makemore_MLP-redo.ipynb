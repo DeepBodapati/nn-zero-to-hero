{
 "cells": [
  {
   "cell_type": "code",
   "execution_count": 1,
   "id": "adf3f0a5-deb1-4c58-b19f-76ee610d5fbe",
   "metadata": {
    "tags": []
   },
   "outputs": [],
   "source": [
    "import torch, numpy as np\n",
    "import torch.nn.functional as F\n",
    "import matplotlib.pyplot as plt\n",
    "%matplotlib inline"
   ]
  },
  {
   "cell_type": "code",
   "execution_count": 2,
   "id": "dfa44549-2a3c-4f98-951a-66670eb6ab0a",
   "metadata": {
    "tags": []
   },
   "outputs": [],
   "source": [
    "words = open('names.txt', 'r').read().splitlines()"
   ]
  },
  {
   "cell_type": "code",
   "execution_count": 3,
   "id": "fbce5bec-bffa-4c39-8398-9340d5d11910",
   "metadata": {
    "tags": []
   },
   "outputs": [],
   "source": [
    "# int mappings \n",
    "chrs = sorted(list(set(''.join(words))))\n",
    "stoi = {s:i for i, s in enumerate(chrs, 1)}\n",
    "stoi['.'] = 0\n",
    "itos = {i:s for s, i in stoi.items()}"
   ]
  },
  {
   "cell_type": "code",
   "execution_count": 4,
   "id": "ee5d5ee5-cc28-465f-826d-43c93ffca49c",
   "metadata": {},
   "outputs": [],
   "source": [
    "# ----------- Attempting my own from the paper: https://www.jmlr.org/papers/volume3/bengio03a/bengio03a.pdf"
   ]
  },
  {
   "cell_type": "code",
   "execution_count": 5,
   "id": "a6186dbb-3865-4b1d-8680-ca226b6b7256",
   "metadata": {
    "tags": []
   },
   "outputs": [
    {
     "name": "stdout",
     "output_type": "stream",
     "text": [
      "Num of training samples: 228146\n"
     ]
    }
   ],
   "source": [
    "# Generate input / output pairs\n",
    "block_size = 3\n",
    "\n",
    "X, Y = [], []\n",
    "\n",
    "for w in words[:]:\n",
    "    # print(w)\n",
    "\n",
    "    context = [0] * block_size \n",
    "    for ch in (w + '.'):\n",
    "        ix = stoi[ch]\n",
    "        X.append(context)\n",
    "        Y.append(ix)\n",
    "        context = context[1:] + [ix]\n",
    "\n",
    "# for x, y in zip(X,Y):\n",
    "#     print(f'{x} -----> {y}')\n",
    "\n",
    "X = torch.tensor(X)\n",
    "Y = torch.tensor(Y)\n",
    "\n",
    "print(f'Num of training samples: {X.shape[0]}')"
   ]
  },
  {
   "cell_type": "code",
   "execution_count": 6,
   "id": "17cfa6b4-e438-4cf9-ac24-afb8b5417fb9",
   "metadata": {
    "tags": []
   },
   "outputs": [
    {
     "name": "stdout",
     "output_type": "stream",
     "text": [
      "Total params: 11897\n"
     ]
    }
   ],
   "source": [
    "# Build the network: y = b + U*tanh(d+Hx)\n",
    "feature_dimensions=10 \n",
    "hidden_units=200\n",
    "\n",
    "g = torch.Generator().manual_seed(2147483647) # for reproducibility\n",
    "\n",
    "C = torch.randn((len(stoi),feature_dimensions), requires_grad=True, generator=g) # e.g., C is (27,2); if X is (5,3) then C[X] is (5,3,2)\n",
    "H = torch.randn((block_size*feature_dimensions,hidden_units), requires_grad=True, generator=g) # e.g., (3*2,20)\n",
    "d = torch.randn(hidden_units, requires_grad=True, generator=g) # e.g., (20,)\n",
    "U = torch.randn((hidden_units,len(stoi)), requires_grad=True, generator=g) # e.g., (20, 27)\n",
    "b = torch.randn(len(stoi), requires_grad=True, generator=g) # e.g., (27,)\n",
    "\n",
    "parameters = [C, H, d, U, b]\n",
    "print(f'Total params: {sum(p.nelement() for p in parameters)}')"
   ]
  },
  {
   "cell_type": "code",
   "execution_count": 7,
   "id": "8d8525f7-cc43-4d51-9a11-b33fad6673fc",
   "metadata": {
    "tags": []
   },
   "outputs": [],
   "source": [
    "# fwd pass \n",
    "h = (C[X].view(X.shape[0],-1) @ H) + d\n",
    "logits = (h.tanh() @ U) + b\n",
    "counts = logits.exp()\n",
    "probs = counts/counts.sum(axis=1, keepdims=True)"
   ]
  },
  {
   "cell_type": "code",
   "execution_count": 8,
   "id": "01960868-7ed9-4ca7-ba37-f9169b433838",
   "metadata": {
    "tags": []
   },
   "outputs": [
    {
     "name": "stdout",
     "output_type": "stream",
     "text": [
      "loss: 26.0063\n"
     ]
    }
   ],
   "source": [
    "# loss function \n",
    "prob = probs[torch.arange(X.shape[0]),Y]\n",
    "loss = -prob.log().mean()\n",
    "print (f'loss: {loss.item():.4f}')"
   ]
  },
  {
   "cell_type": "code",
   "execution_count": 9,
   "id": "4e2b5f65-5e18-45c5-953a-7ffb48fc1852",
   "metadata": {
    "tags": []
   },
   "outputs": [],
   "source": [
    "# reset grad\n",
    "for p in parameters:\n",
    "    p.grad = None"
   ]
  },
  {
   "cell_type": "code",
   "execution_count": 10,
   "id": "cadca3ad-d75e-4f08-8a9c-f1334d0a0640",
   "metadata": {
    "tags": []
   },
   "outputs": [],
   "source": [
    "# backward\n",
    "loss.backward()"
   ]
  },
  {
   "cell_type": "code",
   "execution_count": 11,
   "id": "5d6f814f-cbd0-4cf6-81e7-0ad6559bfeea",
   "metadata": {
    "tags": []
   },
   "outputs": [],
   "source": [
    "# parameter adjust \n",
    "for p in parameters:\n",
    "    p.data += -0.1*p.grad"
   ]
  },
  {
   "cell_type": "code",
   "execution_count": 12,
   "id": "d5ccbaf8-18ce-4cab-8922-f0142f48af64",
   "metadata": {
    "tags": []
   },
   "outputs": [
    {
     "name": "stdout",
     "output_type": "stream",
     "text": [
      "Step: 0, loss: 24.3454\n"
     ]
    },
    {
     "ename": "KeyboardInterrupt",
     "evalue": "",
     "output_type": "error",
     "traceback": [
      "\u001b[0;31m---------------------------------------------------------------------------\u001b[0m",
      "\u001b[0;31mKeyboardInterrupt\u001b[0m                         Traceback (most recent call last)",
      "Cell \u001b[0;32mIn[12], line 19\u001b[0m\n\u001b[1;32m     16\u001b[0m     p\u001b[38;5;241m.\u001b[39mgrad \u001b[38;5;241m=\u001b[39m \u001b[38;5;28;01mNone\u001b[39;00m\n\u001b[1;32m     18\u001b[0m \u001b[38;5;66;03m# backward\u001b[39;00m\n\u001b[0;32m---> 19\u001b[0m \u001b[43mloss\u001b[49m\u001b[38;5;241;43m.\u001b[39;49m\u001b[43mbackward\u001b[49m\u001b[43m(\u001b[49m\u001b[43m)\u001b[49m\n\u001b[1;32m     21\u001b[0m \u001b[38;5;66;03m# parameter adjust \u001b[39;00m\n\u001b[1;32m     22\u001b[0m \u001b[38;5;28;01mfor\u001b[39;00m p \u001b[38;5;129;01min\u001b[39;00m parameters:\n",
      "File \u001b[0;32m~/.local/share/virtualenvs/nn-zero-to-hero-0ylheaul/lib/python3.10/site-packages/torch/_tensor.py:488\u001b[0m, in \u001b[0;36mTensor.backward\u001b[0;34m(self, gradient, retain_graph, create_graph, inputs)\u001b[0m\n\u001b[1;32m    478\u001b[0m \u001b[38;5;28;01mif\u001b[39;00m has_torch_function_unary(\u001b[38;5;28mself\u001b[39m):\n\u001b[1;32m    479\u001b[0m     \u001b[38;5;28;01mreturn\u001b[39;00m handle_torch_function(\n\u001b[1;32m    480\u001b[0m         Tensor\u001b[38;5;241m.\u001b[39mbackward,\n\u001b[1;32m    481\u001b[0m         (\u001b[38;5;28mself\u001b[39m,),\n\u001b[0;32m   (...)\u001b[0m\n\u001b[1;32m    486\u001b[0m         inputs\u001b[38;5;241m=\u001b[39minputs,\n\u001b[1;32m    487\u001b[0m     )\n\u001b[0;32m--> 488\u001b[0m \u001b[43mtorch\u001b[49m\u001b[38;5;241;43m.\u001b[39;49m\u001b[43mautograd\u001b[49m\u001b[38;5;241;43m.\u001b[39;49m\u001b[43mbackward\u001b[49m\u001b[43m(\u001b[49m\n\u001b[1;32m    489\u001b[0m \u001b[43m    \u001b[49m\u001b[38;5;28;43mself\u001b[39;49m\u001b[43m,\u001b[49m\u001b[43m \u001b[49m\u001b[43mgradient\u001b[49m\u001b[43m,\u001b[49m\u001b[43m \u001b[49m\u001b[43mretain_graph\u001b[49m\u001b[43m,\u001b[49m\u001b[43m \u001b[49m\u001b[43mcreate_graph\u001b[49m\u001b[43m,\u001b[49m\u001b[43m \u001b[49m\u001b[43minputs\u001b[49m\u001b[38;5;241;43m=\u001b[39;49m\u001b[43minputs\u001b[49m\n\u001b[1;32m    490\u001b[0m \u001b[43m\u001b[49m\u001b[43m)\u001b[49m\n",
      "File \u001b[0;32m~/.local/share/virtualenvs/nn-zero-to-hero-0ylheaul/lib/python3.10/site-packages/torch/autograd/__init__.py:197\u001b[0m, in \u001b[0;36mbackward\u001b[0;34m(tensors, grad_tensors, retain_graph, create_graph, grad_variables, inputs)\u001b[0m\n\u001b[1;32m    192\u001b[0m     retain_graph \u001b[38;5;241m=\u001b[39m create_graph\n\u001b[1;32m    194\u001b[0m \u001b[38;5;66;03m# The reason we repeat same the comment below is that\u001b[39;00m\n\u001b[1;32m    195\u001b[0m \u001b[38;5;66;03m# some Python versions print out the first line of a multi-line function\u001b[39;00m\n\u001b[1;32m    196\u001b[0m \u001b[38;5;66;03m# calls in the traceback and some print out the last line\u001b[39;00m\n\u001b[0;32m--> 197\u001b[0m \u001b[43mVariable\u001b[49m\u001b[38;5;241;43m.\u001b[39;49m\u001b[43m_execution_engine\u001b[49m\u001b[38;5;241;43m.\u001b[39;49m\u001b[43mrun_backward\u001b[49m\u001b[43m(\u001b[49m\u001b[43m  \u001b[49m\u001b[38;5;66;43;03m# Calls into the C++ engine to run the backward pass\u001b[39;49;00m\n\u001b[1;32m    198\u001b[0m \u001b[43m    \u001b[49m\u001b[43mtensors\u001b[49m\u001b[43m,\u001b[49m\u001b[43m \u001b[49m\u001b[43mgrad_tensors_\u001b[49m\u001b[43m,\u001b[49m\u001b[43m \u001b[49m\u001b[43mretain_graph\u001b[49m\u001b[43m,\u001b[49m\u001b[43m \u001b[49m\u001b[43mcreate_graph\u001b[49m\u001b[43m,\u001b[49m\u001b[43m \u001b[49m\u001b[43minputs\u001b[49m\u001b[43m,\u001b[49m\n\u001b[1;32m    199\u001b[0m \u001b[43m    \u001b[49m\u001b[43mallow_unreachable\u001b[49m\u001b[38;5;241;43m=\u001b[39;49m\u001b[38;5;28;43;01mTrue\u001b[39;49;00m\u001b[43m,\u001b[49m\u001b[43m \u001b[49m\u001b[43maccumulate_grad\u001b[49m\u001b[38;5;241;43m=\u001b[39;49m\u001b[38;5;28;43;01mTrue\u001b[39;49;00m\u001b[43m)\u001b[49m\n",
      "\u001b[0;31mKeyboardInterrupt\u001b[0m: "
     ]
    }
   ],
   "source": [
    "for step in range(20000):\n",
    "    # fwd pass \n",
    "    h = (C[X].view(X.shape[0],-1) @ H) + d\n",
    "    logits = (h.tanh() @ U) + b\n",
    "    counts = logits.exp()\n",
    "    probs = counts/counts.sum(axis=1, keepdims=True)\n",
    "    \n",
    "    # loss function \n",
    "    prob = probs[torch.arange(X.shape[0]),Y]\n",
    "    loss = -prob.log().mean()\n",
    "    if step % 100 == 0: \n",
    "        print (f'Step: {step}, loss: {loss.item():.4f}')\n",
    "        \n",
    "    # reset grad\n",
    "    for p in parameters:\n",
    "        p.grad = None\n",
    "        \n",
    "    # backward\n",
    "    loss.backward()\n",
    "    \n",
    "    # parameter adjust \n",
    "    for p in parameters:\n",
    "        p.data += -0.1*p.grad"
   ]
  },
  {
   "cell_type": "code",
   "execution_count": null,
   "id": "dc62bd39-2568-46f1-a380-2c3a5f7664ae",
   "metadata": {
    "tags": []
   },
   "outputs": [],
   "source": [
    "import torch.nn.functional as F\n",
    "# sample from the model\n",
    "g = torch.Generator().manual_seed(2147483647 + 10)\n",
    "\n",
    "for _ in range(20):\n",
    "    \n",
    "    out = []\n",
    "    context = [0] * block_size # initialize with all ...\n",
    "    while True:\n",
    "        emb = C[torch.tensor([context])] # (1,block_size,d)\n",
    "        h = (emb.view(1,-1) @ H) + d\n",
    "        logits = (h.tanh() @ U) + b\n",
    "        \n",
    "        probs = F.softmax(logits, dim=1)\n",
    "        ix = torch.multinomial(probs, num_samples=1, generator=g).item()\n",
    "        context = context[1:] + [ix]\n",
    "        out.append(ix)\n",
    "        if ix == 0:\n",
    "            break\n",
    "    \n",
    "    print(''.join(itos[i] for i in out))"
   ]
  },
  {
   "cell_type": "code",
   "execution_count": 102,
   "id": "e93c9f2e-a2b8-4dae-9329-92b44973248d",
   "metadata": {},
   "outputs": [],
   "source": [
    "# -------------- Decent result, loss @ 2.6 after ~2100 iterations across entire training set but missed a few things:\n",
    "#     * Creating training, validation and test sets \n",
    "#     * Creating minibatches from the training set \n",
    "#     * Adapting the learning rate over steps \n",
    "\n",
    "# --------------- Retrying again with those adjustments "
   ]
  },
  {
   "cell_type": "code",
   "execution_count": 103,
   "id": "9806b460-ee8c-4f8d-b6b1-f0e439275e36",
   "metadata": {
    "tags": []
   },
   "outputs": [],
   "source": [
    "import torch, torch.nn.functional as F\n",
    "import numpy \n",
    "import matplotlib.pyplot as plt\n",
    "%matplotlib inline"
   ]
  },
  {
   "cell_type": "code",
   "execution_count": 104,
   "id": "d71a7370-7d47-4f43-a937-b8d4145a3fee",
   "metadata": {
    "tags": []
   },
   "outputs": [
    {
     "data": {
      "text/plain": [
       "({'a': 1,\n",
       "  'b': 2,\n",
       "  'c': 3,\n",
       "  'd': 4,\n",
       "  'e': 5,\n",
       "  'f': 6,\n",
       "  'g': 7,\n",
       "  'h': 8,\n",
       "  'i': 9,\n",
       "  'j': 10,\n",
       "  'k': 11,\n",
       "  'l': 12,\n",
       "  'm': 13,\n",
       "  'n': 14,\n",
       "  'o': 15,\n",
       "  'p': 16,\n",
       "  'q': 17,\n",
       "  'r': 18,\n",
       "  's': 19,\n",
       "  't': 20,\n",
       "  'u': 21,\n",
       "  'v': 22,\n",
       "  'w': 23,\n",
       "  'x': 24,\n",
       "  'y': 25,\n",
       "  'z': 26,\n",
       "  '.': 0},\n",
       " {1: 'a',\n",
       "  2: 'b',\n",
       "  3: 'c',\n",
       "  4: 'd',\n",
       "  5: 'e',\n",
       "  6: 'f',\n",
       "  7: 'g',\n",
       "  8: 'h',\n",
       "  9: 'i',\n",
       "  10: 'j',\n",
       "  11: 'k',\n",
       "  12: 'l',\n",
       "  13: 'm',\n",
       "  14: 'n',\n",
       "  15: 'o',\n",
       "  16: 'p',\n",
       "  17: 'q',\n",
       "  18: 'r',\n",
       "  19: 's',\n",
       "  20: 't',\n",
       "  21: 'u',\n",
       "  22: 'v',\n",
       "  23: 'w',\n",
       "  24: 'x',\n",
       "  25: 'y',\n",
       "  26: 'z',\n",
       "  0: '.'})"
      ]
     },
     "execution_count": 104,
     "metadata": {},
     "output_type": "execute_result"
    }
   ],
   "source": [
    "# Create the vocabulary \n",
    "\n",
    "words = open('names.txt', 'r').read().splitlines()\n",
    "\n",
    "chrs = sorted(list(set(''.join(words))))\n",
    "stoi = {s:i for i,s in enumerate(chrs,1)}\n",
    "stoi['.'] = 0\n",
    "itos = {i:s for s,i in stoi.items()}\n",
    "\n",
    "stoi, itos"
   ]
  },
  {
   "cell_type": "code",
   "execution_count": 105,
   "id": "e161a97e-6208-4bac-adc7-544e2d11e164",
   "metadata": {
    "tags": []
   },
   "outputs": [
    {
     "name": "stdout",
     "output_type": "stream",
     "text": [
      "Training samples: 182625\n",
      "Validation samples: 22655\n",
      "Testing samples: 22866\n"
     ]
    }
   ],
   "source": [
    "# Generate the samples \n",
    "\n",
    "block_size = 4\n",
    "\n",
    "import random\n",
    "random.seed(42)\n",
    "\n",
    "random.shuffle(words) \n",
    "n1 = int(0.8 * len(words))\n",
    "n2 = int(0.9 * len(words))\n",
    "\n",
    "def create_samples(words):\n",
    "    x, y = [], []\n",
    "    for w in words:\n",
    "        # print(w)\n",
    "        context = [0]*block_size\n",
    "        for ch in w + '.':\n",
    "            i = stoi[ch]\n",
    "            x.append(context)\n",
    "            y.append(i)\n",
    "            context=context[1:]+[i]\n",
    "    return torch.tensor(x), torch.tensor(y)\n",
    "\n",
    "Xtr, Ytr = create_samples(words[:n1])\n",
    "Xval, Yval = create_samples(words[n1:n2])\n",
    "Xtst, Ytst = create_samples(words[n2:])\n",
    "\n",
    "print(f'Training samples: {Xtr.shape[0]}')\n",
    "print(f'Validation samples: {Xval.shape[0]}')\n",
    "print(f'Testing samples: {Xtst.shape[0]}')"
   ]
  },
  {
   "cell_type": "code",
   "execution_count": 106,
   "id": "9775d63e-82ec-4575-95a0-d1e48fa3dddf",
   "metadata": {
    "tags": []
   },
   "outputs": [
    {
     "name": "stdout",
     "output_type": "stream",
     "text": [
      "Total params: 13897\n"
     ]
    }
   ],
   "source": [
    "# Create the NN\n",
    "g = torch.Generator().manual_seed(2147483647)\n",
    "\n",
    "features = 10\n",
    "hidden_units = 200\n",
    "\n",
    "# y = b + U*tanh(d + Hx)\n",
    "C = torch.randn((len(stoi),features), generator=g)\n",
    "H = torch.randn((block_size*features,hidden_units), generator=g)\n",
    "d = torch.randn(hidden_units, generator=g)\n",
    "U = torch.randn((hidden_units,len(stoi)), generator=g)\n",
    "b = torch.randn(len(stoi), generator=g)\n",
    "\n",
    "parameters = [C, H, d, U, b]\n",
    "for p in parameters:\n",
    "    p.requires_grad = True\n",
    "print(f'Total params: {sum(p.nelement() for p in parameters)}')"
   ]
  },
  {
   "cell_type": "code",
   "execution_count": 108,
   "id": "f26ba100-6384-4b4b-a7eb-30b803bffb5a",
   "metadata": {},
   "outputs": [],
   "source": [
    "stepi, lossi = [], []"
   ]
  },
  {
   "cell_type": "code",
   "execution_count": 109,
   "id": "5855519c-33b9-4532-98ac-a266601929f6",
   "metadata": {
    "tags": []
   },
   "outputs": [
    {
     "name": "stdout",
     "output_type": "stream",
     "text": [
      "Step: 0, loss: 25.9905\n",
      "Step: 20000, loss: 2.0838\n",
      "Step: 40000, loss: 2.5061\n",
      "Step: 60000, loss: 2.1868\n",
      "Step: 80000, loss: 2.3783\n",
      "Step: 100000, loss: 2.3003\n",
      "Step: 120000, loss: 2.0581\n",
      "Step: 140000, loss: 2.1322\n",
      "Step: 160000, loss: 2.0164\n",
      "Step: 180000, loss: 2.0070\n"
     ]
    }
   ],
   "source": [
    "minibatch_sz = 64\n",
    "iterations = 200000\n",
    "\n",
    "for step in range(iterations):\n",
    "    # minibatch \n",
    "    ix = torch.randint(0, Xtr.shape[0], (minibatch_sz,))\n",
    "    emb = C[Xtr[ix]]\n",
    "\n",
    "    # fwd pass \n",
    "    h = torch.tanh((emb.view(minibatch_sz,-1) @ H) + d) # (32,6) @ (6,20) + (20) = (32,20)\n",
    "    logits = (h @ U) + b # (32,20) @ (20,27) + (27) = (32,27)\n",
    "    loss = F.cross_entropy(logits,Ytr[ix])\n",
    "    \n",
    "    # backward\n",
    "    for p in parameters:\n",
    "        p.grad = None\n",
    "    loss.backward()\n",
    "    \n",
    "    # adjust params\n",
    "    lr = 0.1 if step < iterations/2 else 0.01\n",
    "    # lr = 0.01\n",
    "    for p in parameters:\n",
    "        p.data += -lr * p.grad\n",
    "        \n",
    "    if step % (iterations/10) == 0:\n",
    "        print(f'Step: {step}, loss: {loss.item():.4f}')\n",
    "        \n",
    "    stepi.append(step)\n",
    "    lossi.append(loss.log10().item())"
   ]
  },
  {
   "cell_type": "code",
   "execution_count": 110,
   "id": "723a17b8-b6b5-46e5-972b-ab3d4102535e",
   "metadata": {
    "tags": []
   },
   "outputs": [
    {
     "data": {
      "text/plain": [
       "[<matplotlib.lines.Line2D at 0x1178b6d40>]"
      ]
     },
     "execution_count": 110,
     "metadata": {},
     "output_type": "execute_result"
    },
    {
     "data": {
      "image/png": "[encoded data removed]",
      "text/plain": [
       "<Figure size 640x480 with 1 Axes>"
      ]
     },
     "metadata": {},
     "output_type": "display_data"
    }
   ],
   "source": [
    "plt.plot(stepi, lossi)"
   ]
  },
  {
   "cell_type": "code",
   "execution_count": 111,
   "id": "3ca6b7c9-c20e-43dd-ad34-aff575dcb4f7",
   "metadata": {
    "tags": []
   },
   "outputs": [
    {
     "data": {
      "text/plain": [
       "tensor(2.1157, grad_fn=<NllLossBackward0>)"
      ]
     },
     "execution_count": 111,
     "metadata": {},
     "output_type": "execute_result"
    }
   ],
   "source": [
    "emb = C[Xtr]\n",
    "\n",
    "# fwd pass \n",
    "h = torch.tanh((emb.view(Xtr.shape[0],-1) @ H) + d) # (32,6) @ (6,20) + (20) = (32,20)\n",
    "logits = (h @ U) + b # (32,20) @ (20,27) + (27) = (32,27)\n",
    "loss = F.cross_entropy(logits,Ytr)\n",
    "loss"
   ]
  },
  {
   "cell_type": "code",
   "execution_count": 112,
   "id": "a367aa93-8653-4b9d-beb3-612f053cee0e",
   "metadata": {
    "tags": []
   },
   "outputs": [
    {
     "data": {
      "text/plain": [
       "tensor(2.1500, grad_fn=<NllLossBackward0>)"
      ]
     },
     "execution_count": 112,
     "metadata": {},
     "output_type": "execute_result"
    }
   ],
   "source": [
    "emb = C[Xval]\n",
    "\n",
    "# fwd pass \n",
    "h = torch.tanh((emb.view(Xval.shape[0],-1) @ H) + d) # (32,6) @ (6,20) + (20) = (32,20)\n",
    "logits = (h @ U) + b # (32,20) @ (20,27) + (27) = (32,27)\n",
    "loss = F.cross_entropy(logits,Yval)\n",
    "loss"
   ]
  },
  {
   "cell_type": "code",
   "execution_count": 113,
   "id": "265a2f05-f912-4633-882e-1fa71ebaed75",
   "metadata": {
    "tags": []
   },
   "outputs": [
    {
     "data": {
      "text/plain": [
       "tensor(2.1441, grad_fn=<NllLossBackward0>)"
      ]
     },
     "execution_count": 113,
     "metadata": {},
     "output_type": "execute_result"
    }
   ],
   "source": [
    "emb = C[Xtst]\n",
    "\n",
    "# fwd pass \n",
    "h = torch.tanh((emb.view(Xtst.shape[0],-1) @ H) + d) # (32,6) @ (6,20) + (20) = (32,20)\n",
    "logits = (h @ U) + b # (32,20) @ (20,27) + (27) = (32,27)\n",
    "loss = F.cross_entropy(logits,Ytst)\n",
    "loss"
   ]
  },
  {
   "cell_type": "code",
   "execution_count": 122,
   "id": "dc0ba979-56ea-4389-bc07-07be12f79fe4",
   "metadata": {
    "tags": []
   },
   "outputs": [
    {
     "name": "stderr",
     "output_type": "stream",
     "text": [
      "/var/folders/5w/mnhdn3yn1dlc6t15hxlzfy_r0000gn/T/ipykernel_7146/3431613057.py:4: UserWarning: features <> 2\n",
      "  warnings.warn('features <> 2')\n"
     ]
    },
    {
     "data": {
      "image/png": "[encoded data removed]",
      "text/plain": [
       "<Figure size 800x800 with 1 Axes>"
      ]
     },
     "metadata": {},
     "output_type": "display_data"
    }
   ],
   "source": [
    "# Doesn't make sense if features <> 2\n",
    "import warnings\n",
    "if (features != 2): \n",
    "    warnings.warn('features <> 2') \n",
    "\n",
    "# visualize dimensions 0 and 1 of the embedding matrix C for all characters\n",
    "plt.figure(figsize=(8,8))\n",
    "plt.scatter(C[:,0].data, C[:,1].data, s=200)\n",
    "for i in range(C.shape[0]):\n",
    "    plt.text(C[i,0].item(), C[i,1].item(), itos[i], ha=\"center\", va=\"center\", color='white')\n",
    "plt.grid('minor')"
   ]
  },
  {
   "cell_type": "code",
   "execution_count": 114,
   "id": "a4254ca9-1409-4185-997a-e639a65a252a",
   "metadata": {
    "tags": []
   },
   "outputs": [
    {
     "name": "stdout",
     "output_type": "stream",
     "text": [
      "carmah.\n",
      "ambriell.\n",
      "kimra.\n",
      "rehtyn.\n",
      "kanden.\n",
      "jazoneefa.\n",
      "esric.\n",
      "kaqui.\n",
      "nelonia.\n",
      "chaiir.\n",
      "kaleigh.\n",
      "hama.\n",
      "dinder.\n",
      "juzs.\n",
      "lilea.\n",
      "jadbi.\n",
      "watthon.\n",
      "jaryn.\n",
      "kakae.\n",
      "pirray.\n"
     ]
    }
   ],
   "source": [
    "# sample from the model\n",
    "g = torch.Generator().manual_seed(2147483647 + 10)\n",
    "\n",
    "for _ in range(20):\n",
    "    \n",
    "    out = []\n",
    "    context = [0] * block_size # initialize with all ...\n",
    "    while True:\n",
    "        emb = C[torch.tensor([context])] # (1,block_size,d)\n",
    "        h = torch.tanh(emb.view(1, -1) @ H + d)\n",
    "        logits = h @ U + b\n",
    "        probs = F.softmax(logits, dim=1)\n",
    "        ix = torch.multinomial(probs, num_samples=1, generator=g).item()\n",
    "        context = context[1:] + [ix]\n",
    "        out.append(ix)\n",
    "        if ix == 0:\n",
    "            break\n",
    "    \n",
    "    print(''.join(itos[i] for i in out))"
   ]
  },
  {
   "cell_type": "markdown",
   "id": "3867d86e-cf23-412d-bba4-17b39c2877e0",
   "metadata": {},
   "source": [
    "## Lessons from this part:\n",
    "* Minibatch - Better to have estimated direction of the gradient and take a lot of fast steps in that direction, vs. estimating the exact direction of the gradient and take a few steps.\n",
    "    * In practice, this means a minibatch. \n",
    "    * You can estimate the exact direction of the gradient across the entire data set and then backprop to head in that direction. But each fwd_pass takes a long time, and you take fewer steps even if each step is in the exact right direction. \n",
    "    * But in practice, it's better to have an estimated direction of the gradient with a minibatch, take a quick, even if inaccurate step, and iterate faster.\n",
    "\n",
    "* Learning rate and decaying it - Understand how loss varies with different learning rates\n",
    "    * To learn, first manually test the upper and lower limits of acceptable losses \n",
    "    * Next, iterate over the LRs (array with exponential change on LR between lower and upper limits) and see how loss varies across those. Pick the one where the loss is the lowest. \n",
    "    * Once you have trained a few iterations on that LR and the loss is plateauing, then decay the learning rate by 10 i.e., 0.1 to 0.01  \n",
    "\n",
    "* Over/under-fitting: Compare losses of the training vs. dev set: \n",
    "    * If the loss_training ~= loss_dev, then you are likely underfitting. That is, the model either doesn't have enough capacity to learn the training set, or hasn't been trained enough to tell the difference between training vs. dev sets. \n",
    "    * If the loss_training << loss_dev, then you are likely overfitting. That is, the model has memorized the training set and isn't able to generalize to data it hasn't seen. \n",
    "    * If the loss_traing >> loss_dev - well, that doesn't really make sense. Maybe you got super lucky and it won't happen again :) "
   ]
  },
  {
   "cell_type": "code",
   "execution_count": null,
   "id": "a199feae-c6dc-4b21-ba91-174815a8f660",
   "metadata": {},
   "outputs": [],
   "source": []
  }
 ],
 "metadata": {
  "kernelspec": {
   "display_name": "Python 3 (ipykernel)",
   "language": "python",
   "name": "python3"
  },
  "language_info": {
   "codemirror_mode": {
    "name": "ipython",
    "version": 3
   },
   "file_extension": ".py",
   "mimetype": "text/x-python",
   "name": "python",
   "nbconvert_exporter": "python",
   "pygments_lexer": "ipython3",
   "version": "3.10.9"
  }
 },
 "nbformat": 4,
 "nbformat_minor": 5
}
